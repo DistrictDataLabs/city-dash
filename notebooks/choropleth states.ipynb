{
 "cells": [
  {
   "cell_type": "code",
   "execution_count": 39,
   "metadata": {},
   "outputs": [],
   "source": [
    "import plotly.offline as py\n",
    "import pandas as pd"
   ]
  },
  {
   "cell_type": "code",
   "execution_count": 80,
   "metadata": {},
   "outputs": [],
   "source": [
    "df = pd.read_csv('../data/df_th.csv', index_col=0).groupby([\"state\"], as_index=False).sum()\n",
    "#df=pd.read_csv('../data/df_th.csv', index_col=0, na_values=['(NA)']).fillna(0)"
   ]
  },
  {
   "cell_type": "code",
   "execution_count": 81,
   "metadata": {},
   "outputs": [
    {
     "data": {
      "text/html": [
       "<div>\n",
       "<style scoped>\n",
       "    .dataframe tbody tr th:only-of-type {\n",
       "        vertical-align: middle;\n",
       "    }\n",
       "\n",
       "    .dataframe tbody tr th {\n",
       "        vertical-align: top;\n",
       "    }\n",
       "\n",
       "    .dataframe thead th {\n",
       "        text-align: right;\n",
       "    }\n",
       "</style>\n",
       "<table border=\"1\" class=\"dataframe\">\n",
       "  <thead>\n",
       "    <tr style=\"text-align: right;\">\n",
       "      <th></th>\n",
       "      <th>state</th>\n",
       "      <th>zipcode</th>\n",
       "      <th>latitude</th>\n",
       "      <th>longitude</th>\n",
       "      <th>fips</th>\n",
       "      <th>02HC01_VC03</th>\n",
       "      <th>02HC01_VC04</th>\n",
       "      <th>02HC01_VC05</th>\n",
       "    </tr>\n",
       "  </thead>\n",
       "  <tbody>\n",
       "    <tr>\n",
       "      <th>0</th>\n",
       "      <td>AK</td>\n",
       "      <td>20733808</td>\n",
       "      <td>12787.643276</td>\n",
       "      <td>-31925.558762</td>\n",
       "      <td>446232.0</td>\n",
       "      <td>248087.0</td>\n",
       "      <td>164986.0</td>\n",
       "      <td>78683.0</td>\n",
       "    </tr>\n",
       "    <tr>\n",
       "      <th>1</th>\n",
       "      <td>AL</td>\n",
       "      <td>34231538</td>\n",
       "      <td>31363.743787</td>\n",
       "      <td>-82556.172498</td>\n",
       "      <td>1019188.0</td>\n",
       "      <td>2885881.0</td>\n",
       "      <td>1940447.0</td>\n",
       "      <td>775793.0</td>\n",
       "    </tr>\n",
       "    <tr>\n",
       "      <th>2</th>\n",
       "      <td>AR</td>\n",
       "      <td>61956294</td>\n",
       "      <td>30096.409643</td>\n",
       "      <td>-79169.076397</td>\n",
       "      <td>4351657.0</td>\n",
       "      <td>1886949.0</td>\n",
       "      <td>1259684.0</td>\n",
       "      <td>515929.0</td>\n",
       "    </tr>\n",
       "    <tr>\n",
       "      <th>3</th>\n",
       "      <td>AZ</td>\n",
       "      <td>30321536</td>\n",
       "      <td>11894.403463</td>\n",
       "      <td>-39476.652264</td>\n",
       "      <td>1420828.0</td>\n",
       "      <td>2233482.0</td>\n",
       "      <td>1436011.0</td>\n",
       "      <td>591701.0</td>\n",
       "    </tr>\n",
       "    <tr>\n",
       "      <th>4</th>\n",
       "      <td>CA</td>\n",
       "      <td>167995282</td>\n",
       "      <td>65302.205317</td>\n",
       "      <td>-214963.048779</td>\n",
       "      <td>10860479.0</td>\n",
       "      <td>13929258.0</td>\n",
       "      <td>9619506.0</td>\n",
       "      <td>4407316.0</td>\n",
       "    </tr>\n",
       "  </tbody>\n",
       "</table>\n",
       "</div>"
      ],
      "text/plain": [
       "  state    zipcode      latitude      longitude        fips  02HC01_VC03  \\\n",
       "0    AK   20733808  12787.643276  -31925.558762    446232.0     248087.0   \n",
       "1    AL   34231538  31363.743787  -82556.172498   1019188.0    2885881.0   \n",
       "2    AR   61956294  30096.409643  -79169.076397   4351657.0    1886949.0   \n",
       "3    AZ   30321536  11894.403463  -39476.652264   1420828.0    2233482.0   \n",
       "4    CA  167995282  65302.205317 -214963.048779  10860479.0   13929258.0   \n",
       "\n",
       "   02HC01_VC04  02HC01_VC05  \n",
       "0     164986.0      78683.0  \n",
       "1    1940447.0     775793.0  \n",
       "2    1259684.0     515929.0  \n",
       "3    1436011.0     591701.0  \n",
       "4    9619506.0    4407316.0  "
      ]
     },
     "execution_count": 81,
     "metadata": {},
     "output_type": "execute_result"
    }
   ],
   "source": [
    "df.head()"
   ]
  },
  {
   "cell_type": "code",
   "execution_count": 98,
   "metadata": {},
   "outputs": [
    {
     "data": {
      "text/plain": [
       "Index(['state', 'zipcode', 'latitude', 'longitude', 'fips', '02HC01_VC03',\n",
       "       '02HC01_VC04', '02HC01_VC05', 'text'],\n",
       "      dtype='object')"
      ]
     },
     "execution_count": 98,
     "metadata": {},
     "output_type": "execute_result"
    }
   ],
   "source": [
    "df.columns"
   ]
  },
  {
   "cell_type": "code",
   "execution_count": 99,
   "metadata": {},
   "outputs": [],
   "source": [
    "new_cols = ['state', '02HC01_VC03', '02HC01_VC04', '02HC01_VC05']"
   ]
  },
  {
   "cell_type": "code",
   "execution_count": 100,
   "metadata": {},
   "outputs": [],
   "source": [
    "df = df[new_cols]"
   ]
  },
  {
   "cell_type": "code",
   "execution_count": 102,
   "metadata": {},
   "outputs": [
    {
     "data": {
      "text/plain": [
       "state          object\n",
       "02HC01_VC03    object\n",
       "02HC01_VC04    object\n",
       "02HC01_VC05    object\n",
       "dtype: object"
      ]
     },
     "execution_count": 102,
     "metadata": {},
     "output_type": "execute_result"
    }
   ],
   "source": [
    "df.dtypes"
   ]
  },
  {
   "cell_type": "code",
   "execution_count": 118,
   "metadata": {},
   "outputs": [],
   "source": [
    "for col in df.columns:\n",
    "    df[col] = df[col].astype(str)\n",
    "\n",
    "scl = [[0.0, 'rgb(242,240,247)'],[0.2, 'rgb(218,218,235)'],[0.4, 'rgb(188,189,220)'],\\\n",
    "             [0.6, 'rgb(158,154,200)'],[0.8, 'rgb(117,107,177)'],[1.0, 'rgb(84,39,143)']]\n",
    "\n",
    "df['text'] = df['state'] + '<br>' +\\\n",
    "    'Total Household '+df['02HC01_VC03']+' Family households (families) '+df['02HC01_VC04']+'<br>'+\\\n",
    "    'Family households (families) - With own children of the householder under 18 years '+df['02HC01_VC05']"
   ]
  },
  {
   "cell_type": "code",
   "execution_count": 119,
   "metadata": {},
   "outputs": [],
   "source": [
    "data = [ dict(\n",
    "        type='choropleth',\n",
    "        colorscale = scl,\n",
    "        autocolorscale = False,\n",
    "        locations = df['state'],\n",
    "        z = df['02HC01_VC03'].astype(float),\n",
    "        locationmode = 'USA-states',\n",
    "        text = df['text'],\n",
    "        marker = dict(\n",
    "            line = dict (\n",
    "                color = 'rgb(255,255,255)',\n",
    "                width = 2\n",
    "            ) ),\n",
    "        colorbar = dict(\n",
    "            title = \"Total Household\")\n",
    "        ) ]"
   ]
  },
  {
   "cell_type": "code",
   "execution_count": 120,
   "metadata": {},
   "outputs": [],
   "source": [
    "layout = dict(\n",
    "        title = 'Total Household<br>(Hover for breakdown)',\n",
    "        geo = dict(\n",
    "            scope='usa',\n",
    "            projection=dict( type='albers usa' ),\n",
    "            showlakes = True,\n",
    "            lakecolor = 'rgb(255, 255, 255)'),\n",
    "             )\n",
    "    "
   ]
  },
  {
   "cell_type": "code",
   "execution_count": 121,
   "metadata": {},
   "outputs": [],
   "source": [
    "fig = dict( data=data, layout=layout )"
   ]
  },
  {
   "cell_type": "code",
   "execution_count": 122,
   "metadata": {},
   "outputs": [
    {
     "data": {
      "text/plain": [
       "'file:///Users/niko/Projects/city-dash/notebooks/total-household-cloropleth-map.html'"
      ]
     },
     "execution_count": 122,
     "metadata": {},
     "output_type": "execute_result"
    }
   ],
   "source": [
    "py.plot(fig, filename='total-household-cloropleth-map.html' )"
   ]
  },
  {
   "cell_type": "code",
   "execution_count": null,
   "metadata": {},
   "outputs": [],
   "source": []
  }
 ],
 "metadata": {
  "kernelspec": {
   "display_name": "Python [conda env:city-dash]",
   "language": "python",
   "name": "conda-env-city-dash-py"
  },
  "language_info": {
   "codemirror_mode": {
    "name": "ipython",
    "version": 3
   },
   "file_extension": ".py",
   "mimetype": "text/x-python",
   "name": "python",
   "nbconvert_exporter": "python",
   "pygments_lexer": "ipython3",
   "version": "3.6.5"
  }
 },
 "nbformat": 4,
 "nbformat_minor": 2
}
