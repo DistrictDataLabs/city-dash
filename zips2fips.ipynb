{
 "cells": [
  {
   "cell_type": "markdown",
   "metadata": {},
   "source": [
    "## Adding FIPS (Federal Information Processing Standards) codes to county based on zipcode from data.world"
   ]
  },
  {
   "cell_type": "code",
   "execution_count": 108,
   "metadata": {},
   "outputs": [],
   "source": [
    "# import modules\n",
    "\n",
    "import numpy as np\n",
    "import pandas as pd"
   ]
  },
  {
   "cell_type": "code",
   "execution_count": 109,
   "metadata": {},
   "outputs": [
    {
     "data": {
      "text/html": [
       "<div>\n",
       "<style scoped>\n",
       "    .dataframe tbody tr th:only-of-type {\n",
       "        vertical-align: middle;\n",
       "    }\n",
       "\n",
       "    .dataframe tbody tr th {\n",
       "        vertical-align: top;\n",
       "    }\n",
       "\n",
       "    .dataframe thead th {\n",
       "        text-align: right;\n",
       "    }\n",
       "</style>\n",
       "<table border=\"1\" class=\"dataframe\">\n",
       "  <thead>\n",
       "    <tr style=\"text-align: right;\">\n",
       "      <th></th>\n",
       "      <th>zipcode</th>\n",
       "      <th>latitude</th>\n",
       "      <th>longitude</th>\n",
       "      <th>city</th>\n",
       "      <th>state</th>\n",
       "      <th>county</th>\n",
       "    </tr>\n",
       "  </thead>\n",
       "  <tbody>\n",
       "    <tr>\n",
       "      <th>0</th>\n",
       "      <td>501</td>\n",
       "      <td>40.922326</td>\n",
       "      <td>-72.637078</td>\n",
       "      <td>Holtsville</td>\n",
       "      <td>NY</td>\n",
       "      <td>Suffolk</td>\n",
       "    </tr>\n",
       "    <tr>\n",
       "      <th>1</th>\n",
       "      <td>544</td>\n",
       "      <td>40.922326</td>\n",
       "      <td>-72.637078</td>\n",
       "      <td>Holtsville</td>\n",
       "      <td>NY</td>\n",
       "      <td>Suffolk</td>\n",
       "    </tr>\n",
       "    <tr>\n",
       "      <th>2</th>\n",
       "      <td>601</td>\n",
       "      <td>18.165273</td>\n",
       "      <td>-66.722583</td>\n",
       "      <td>Adjuntas</td>\n",
       "      <td>PR</td>\n",
       "      <td>Adjuntas</td>\n",
       "    </tr>\n",
       "    <tr>\n",
       "      <th>3</th>\n",
       "      <td>602</td>\n",
       "      <td>18.393103</td>\n",
       "      <td>-67.180953</td>\n",
       "      <td>Aguada</td>\n",
       "      <td>PR</td>\n",
       "      <td>Aguada</td>\n",
       "    </tr>\n",
       "    <tr>\n",
       "      <th>4</th>\n",
       "      <td>603</td>\n",
       "      <td>18.455913</td>\n",
       "      <td>-67.145780</td>\n",
       "      <td>Aguadilla</td>\n",
       "      <td>PR</td>\n",
       "      <td>Aguadilla</td>\n",
       "    </tr>\n",
       "  </tbody>\n",
       "</table>\n",
       "</div>"
      ],
      "text/plain": [
       "   zipcode   latitude  longitude        city state     county\n",
       "0      501  40.922326 -72.637078  Holtsville    NY    Suffolk\n",
       "1      544  40.922326 -72.637078  Holtsville    NY    Suffolk\n",
       "2      601  18.165273 -66.722583    Adjuntas    PR   Adjuntas\n",
       "3      602  18.393103 -67.180953      Aguada    PR     Aguada\n",
       "4      603  18.455913 -67.145780   Aguadilla    PR  Aguadilla"
      ]
     },
     "execution_count": 109,
     "metadata": {},
     "output_type": "execute_result"
    }
   ],
   "source": [
    "# import zipcodes\n",
    "zipcode = pd.read_csv(\"data/zipcode_states.csv\")\n",
    "zipcode.head()"
   ]
  },
  {
   "cell_type": "code",
   "execution_count": 110,
   "metadata": {},
   "outputs": [
    {
     "data": {
      "text/plain": [
       "zipcode        int64\n",
       "latitude     float64\n",
       "longitude    float64\n",
       "city          object\n",
       "state         object\n",
       "county        object\n",
       "dtype: object"
      ]
     },
     "execution_count": 110,
     "metadata": {},
     "output_type": "execute_result"
    }
   ],
   "source": [
    "zipcode.dtypes"
   ]
  },
  {
   "cell_type": "code",
   "execution_count": 111,
   "metadata": {},
   "outputs": [
    {
     "data": {
      "text/plain": [
       "(42741, 6)"
      ]
     },
     "execution_count": 111,
     "metadata": {},
     "output_type": "execute_result"
    }
   ],
   "source": [
    "zipcode.shape"
   ]
  },
  {
   "cell_type": "code",
   "execution_count": 112,
   "metadata": {},
   "outputs": [],
   "source": [
    "# importing FIPS for county; zipcodes\n",
    "# https://data.world/integrations/python\n",
    "import datadotworld as dw"
   ]
  },
  {
   "cell_type": "code",
   "execution_count": 113,
   "metadata": {},
   "outputs": [],
   "source": [
    "results = dw.query(\n",
    "\t'niccolley/us-zipcode-to-county-state', \n",
    "    'SELECT * FROM zip_county_fips_2018_03')\n",
    "results_df = results.dataframe"
   ]
  },
  {
   "cell_type": "code",
   "execution_count": 114,
   "metadata": {},
   "outputs": [
    {
     "data": {
      "text/html": [
       "<div>\n",
       "<style scoped>\n",
       "    .dataframe tbody tr th:only-of-type {\n",
       "        vertical-align: middle;\n",
       "    }\n",
       "\n",
       "    .dataframe tbody tr th {\n",
       "        vertical-align: top;\n",
       "    }\n",
       "\n",
       "    .dataframe thead th {\n",
       "        text-align: right;\n",
       "    }\n",
       "</style>\n",
       "<table border=\"1\" class=\"dataframe\">\n",
       "  <thead>\n",
       "    <tr style=\"text-align: right;\">\n",
       "      <th></th>\n",
       "      <th>zip</th>\n",
       "      <th>stcountyfp</th>\n",
       "      <th>city</th>\n",
       "      <th>state</th>\n",
       "      <th>countyname</th>\n",
       "      <th>classfp</th>\n",
       "    </tr>\n",
       "  </thead>\n",
       "  <tbody>\n",
       "    <tr>\n",
       "      <th>0</th>\n",
       "      <td>36091</td>\n",
       "      <td>01001</td>\n",
       "      <td>Verbena</td>\n",
       "      <td>AL</td>\n",
       "      <td>Autauga County</td>\n",
       "      <td>H1</td>\n",
       "    </tr>\n",
       "    <tr>\n",
       "      <th>1</th>\n",
       "      <td>36758</td>\n",
       "      <td>01001</td>\n",
       "      <td>Plantersville</td>\n",
       "      <td>AL</td>\n",
       "      <td>Autauga County</td>\n",
       "      <td>H1</td>\n",
       "    </tr>\n",
       "    <tr>\n",
       "      <th>2</th>\n",
       "      <td>36749</td>\n",
       "      <td>01001</td>\n",
       "      <td>Jones</td>\n",
       "      <td>AL</td>\n",
       "      <td>Autauga County</td>\n",
       "      <td>H1</td>\n",
       "    </tr>\n",
       "    <tr>\n",
       "      <th>3</th>\n",
       "      <td>36250</td>\n",
       "      <td>01015</td>\n",
       "      <td>Alexandria</td>\n",
       "      <td>AL</td>\n",
       "      <td>Calhoun County</td>\n",
       "      <td>H1</td>\n",
       "    </tr>\n",
       "    <tr>\n",
       "      <th>4</th>\n",
       "      <td>36203</td>\n",
       "      <td>01121</td>\n",
       "      <td>Oxford</td>\n",
       "      <td>AL</td>\n",
       "      <td>Talladega County</td>\n",
       "      <td>H1</td>\n",
       "    </tr>\n",
       "  </tbody>\n",
       "</table>\n",
       "</div>"
      ],
      "text/plain": [
       "     zip stcountyfp           city state        countyname classfp\n",
       "0  36091      01001        Verbena    AL    Autauga County      H1\n",
       "1  36758      01001  Plantersville    AL    Autauga County      H1\n",
       "2  36749      01001          Jones    AL    Autauga County      H1\n",
       "3  36250      01015     Alexandria    AL    Calhoun County      H1\n",
       "4  36203      01121         Oxford    AL  Talladega County      H1"
      ]
     },
     "execution_count": 114,
     "metadata": {},
     "output_type": "execute_result"
    }
   ],
   "source": [
    "results_df.head()"
   ]
  },
  {
   "cell_type": "code",
   "execution_count": 115,
   "metadata": {},
   "outputs": [],
   "source": [
    "# save df to csv\n",
    "results_df.to_csv(\"./data/fips.csv\")"
   ]
  },
  {
   "cell_type": "code",
   "execution_count": 116,
   "metadata": {},
   "outputs": [
    {
     "data": {
      "text/plain": [
       "(53962, 6)"
      ]
     },
     "execution_count": 116,
     "metadata": {},
     "output_type": "execute_result"
    }
   ],
   "source": [
    "results_df.shape"
   ]
  },
  {
   "cell_type": "code",
   "execution_count": 117,
   "metadata": {},
   "outputs": [
    {
     "data": {
      "text/plain": [
       "zip           object\n",
       "stcountyfp    object\n",
       "city          object\n",
       "state         object\n",
       "countyname    object\n",
       "classfp       object\n",
       "dtype: object"
      ]
     },
     "execution_count": 117,
     "metadata": {},
     "output_type": "execute_result"
    }
   ],
   "source": [
    "results_df.dtypes"
   ]
  },
  {
   "cell_type": "code",
   "execution_count": 118,
   "metadata": {},
   "outputs": [],
   "source": [
    "results_df.rename(columns={'zip': 'zipcode','stcountyfp': 'fips'}, inplace=True)"
   ]
  },
  {
   "cell_type": "code",
   "execution_count": 119,
   "metadata": {},
   "outputs": [
    {
     "data": {
      "text/html": [
       "<div>\n",
       "<style scoped>\n",
       "    .dataframe tbody tr th:only-of-type {\n",
       "        vertical-align: middle;\n",
       "    }\n",
       "\n",
       "    .dataframe tbody tr th {\n",
       "        vertical-align: top;\n",
       "    }\n",
       "\n",
       "    .dataframe thead th {\n",
       "        text-align: right;\n",
       "    }\n",
       "</style>\n",
       "<table border=\"1\" class=\"dataframe\">\n",
       "  <thead>\n",
       "    <tr style=\"text-align: right;\">\n",
       "      <th></th>\n",
       "      <th>zipcode</th>\n",
       "      <th>fips</th>\n",
       "      <th>city</th>\n",
       "      <th>state</th>\n",
       "      <th>countyname</th>\n",
       "      <th>classfp</th>\n",
       "    </tr>\n",
       "  </thead>\n",
       "  <tbody>\n",
       "    <tr>\n",
       "      <th>0</th>\n",
       "      <td>36091</td>\n",
       "      <td>01001</td>\n",
       "      <td>Verbena</td>\n",
       "      <td>AL</td>\n",
       "      <td>Autauga County</td>\n",
       "      <td>H1</td>\n",
       "    </tr>\n",
       "    <tr>\n",
       "      <th>1</th>\n",
       "      <td>36758</td>\n",
       "      <td>01001</td>\n",
       "      <td>Plantersville</td>\n",
       "      <td>AL</td>\n",
       "      <td>Autauga County</td>\n",
       "      <td>H1</td>\n",
       "    </tr>\n",
       "    <tr>\n",
       "      <th>2</th>\n",
       "      <td>36749</td>\n",
       "      <td>01001</td>\n",
       "      <td>Jones</td>\n",
       "      <td>AL</td>\n",
       "      <td>Autauga County</td>\n",
       "      <td>H1</td>\n",
       "    </tr>\n",
       "    <tr>\n",
       "      <th>3</th>\n",
       "      <td>36250</td>\n",
       "      <td>01015</td>\n",
       "      <td>Alexandria</td>\n",
       "      <td>AL</td>\n",
       "      <td>Calhoun County</td>\n",
       "      <td>H1</td>\n",
       "    </tr>\n",
       "    <tr>\n",
       "      <th>4</th>\n",
       "      <td>36203</td>\n",
       "      <td>01121</td>\n",
       "      <td>Oxford</td>\n",
       "      <td>AL</td>\n",
       "      <td>Talladega County</td>\n",
       "      <td>H1</td>\n",
       "    </tr>\n",
       "  </tbody>\n",
       "</table>\n",
       "</div>"
      ],
      "text/plain": [
       "  zipcode   fips           city state        countyname classfp\n",
       "0   36091  01001        Verbena    AL    Autauga County      H1\n",
       "1   36758  01001  Plantersville    AL    Autauga County      H1\n",
       "2   36749  01001          Jones    AL    Autauga County      H1\n",
       "3   36250  01015     Alexandria    AL    Calhoun County      H1\n",
       "4   36203  01121         Oxford    AL  Talladega County      H1"
      ]
     },
     "execution_count": 119,
     "metadata": {},
     "output_type": "execute_result"
    }
   ],
   "source": [
    "results_df.head()"
   ]
  },
  {
   "cell_type": "code",
   "execution_count": 120,
   "metadata": {},
   "outputs": [],
   "source": [
    "results_df = results_df.apply(pd.to_numeric, errors='ignore')"
   ]
  },
  {
   "cell_type": "code",
   "execution_count": 121,
   "metadata": {},
   "outputs": [
    {
     "data": {
      "text/plain": [
       "zipcode        int64\n",
       "fips           int64\n",
       "city          object\n",
       "state         object\n",
       "countyname    object\n",
       "classfp       object\n",
       "dtype: object"
      ]
     },
     "execution_count": 121,
     "metadata": {},
     "output_type": "execute_result"
    }
   ],
   "source": [
    "results_df.dtypes"
   ]
  },
  {
   "cell_type": "code",
   "execution_count": 122,
   "metadata": {},
   "outputs": [
    {
     "data": {
      "text/html": [
       "<div>\n",
       "<style scoped>\n",
       "    .dataframe tbody tr th:only-of-type {\n",
       "        vertical-align: middle;\n",
       "    }\n",
       "\n",
       "    .dataframe tbody tr th {\n",
       "        vertical-align: top;\n",
       "    }\n",
       "\n",
       "    .dataframe thead th {\n",
       "        text-align: right;\n",
       "    }\n",
       "</style>\n",
       "<table border=\"1\" class=\"dataframe\">\n",
       "  <thead>\n",
       "    <tr style=\"text-align: right;\">\n",
       "      <th></th>\n",
       "      <th>zipcode</th>\n",
       "      <th>fips</th>\n",
       "      <th>city</th>\n",
       "      <th>state</th>\n",
       "      <th>countyname</th>\n",
       "      <th>classfp</th>\n",
       "    </tr>\n",
       "  </thead>\n",
       "  <tbody>\n",
       "    <tr>\n",
       "      <th>0</th>\n",
       "      <td>36091</td>\n",
       "      <td>1001</td>\n",
       "      <td>Verbena</td>\n",
       "      <td>AL</td>\n",
       "      <td>Autauga County</td>\n",
       "      <td>H1</td>\n",
       "    </tr>\n",
       "    <tr>\n",
       "      <th>1</th>\n",
       "      <td>36758</td>\n",
       "      <td>1001</td>\n",
       "      <td>Plantersville</td>\n",
       "      <td>AL</td>\n",
       "      <td>Autauga County</td>\n",
       "      <td>H1</td>\n",
       "    </tr>\n",
       "    <tr>\n",
       "      <th>2</th>\n",
       "      <td>36749</td>\n",
       "      <td>1001</td>\n",
       "      <td>Jones</td>\n",
       "      <td>AL</td>\n",
       "      <td>Autauga County</td>\n",
       "      <td>H1</td>\n",
       "    </tr>\n",
       "    <tr>\n",
       "      <th>3</th>\n",
       "      <td>36250</td>\n",
       "      <td>1015</td>\n",
       "      <td>Alexandria</td>\n",
       "      <td>AL</td>\n",
       "      <td>Calhoun County</td>\n",
       "      <td>H1</td>\n",
       "    </tr>\n",
       "    <tr>\n",
       "      <th>4</th>\n",
       "      <td>36203</td>\n",
       "      <td>1121</td>\n",
       "      <td>Oxford</td>\n",
       "      <td>AL</td>\n",
       "      <td>Talladega County</td>\n",
       "      <td>H1</td>\n",
       "    </tr>\n",
       "  </tbody>\n",
       "</table>\n",
       "</div>"
      ],
      "text/plain": [
       "   zipcode  fips           city state        countyname classfp\n",
       "0    36091  1001        Verbena    AL    Autauga County      H1\n",
       "1    36758  1001  Plantersville    AL    Autauga County      H1\n",
       "2    36749  1001          Jones    AL    Autauga County      H1\n",
       "3    36250  1015     Alexandria    AL    Calhoun County      H1\n",
       "4    36203  1121         Oxford    AL  Talladega County      H1"
      ]
     },
     "execution_count": 122,
     "metadata": {},
     "output_type": "execute_result"
    }
   ],
   "source": [
    "results_df.head()"
   ]
  },
  {
   "cell_type": "code",
   "execution_count": 123,
   "metadata": {},
   "outputs": [],
   "source": [
    "# merge FIPS to zipcode df\n",
    "zipfips = pd.merge(zipcode,results_df[['zipcode','fips']],on='zipcode', how='left')"
   ]
  },
  {
   "cell_type": "code",
   "execution_count": 124,
   "metadata": {},
   "outputs": [
    {
     "data": {
      "text/html": [
       "<div>\n",
       "<style scoped>\n",
       "    .dataframe tbody tr th:only-of-type {\n",
       "        vertical-align: middle;\n",
       "    }\n",
       "\n",
       "    .dataframe tbody tr th {\n",
       "        vertical-align: top;\n",
       "    }\n",
       "\n",
       "    .dataframe thead th {\n",
       "        text-align: right;\n",
       "    }\n",
       "</style>\n",
       "<table border=\"1\" class=\"dataframe\">\n",
       "  <thead>\n",
       "    <tr style=\"text-align: right;\">\n",
       "      <th></th>\n",
       "      <th>zipcode</th>\n",
       "      <th>latitude</th>\n",
       "      <th>longitude</th>\n",
       "      <th>city</th>\n",
       "      <th>state</th>\n",
       "      <th>county</th>\n",
       "      <th>fips</th>\n",
       "    </tr>\n",
       "  </thead>\n",
       "  <tbody>\n",
       "    <tr>\n",
       "      <th>0</th>\n",
       "      <td>501</td>\n",
       "      <td>40.922326</td>\n",
       "      <td>-72.637078</td>\n",
       "      <td>Holtsville</td>\n",
       "      <td>NY</td>\n",
       "      <td>Suffolk</td>\n",
       "      <td>36103.0</td>\n",
       "    </tr>\n",
       "    <tr>\n",
       "      <th>1</th>\n",
       "      <td>544</td>\n",
       "      <td>40.922326</td>\n",
       "      <td>-72.637078</td>\n",
       "      <td>Holtsville</td>\n",
       "      <td>NY</td>\n",
       "      <td>Suffolk</td>\n",
       "      <td>NaN</td>\n",
       "    </tr>\n",
       "    <tr>\n",
       "      <th>2</th>\n",
       "      <td>601</td>\n",
       "      <td>18.165273</td>\n",
       "      <td>-66.722583</td>\n",
       "      <td>Adjuntas</td>\n",
       "      <td>PR</td>\n",
       "      <td>Adjuntas</td>\n",
       "      <td>72001.0</td>\n",
       "    </tr>\n",
       "    <tr>\n",
       "      <th>3</th>\n",
       "      <td>601</td>\n",
       "      <td>18.165273</td>\n",
       "      <td>-66.722583</td>\n",
       "      <td>Adjuntas</td>\n",
       "      <td>PR</td>\n",
       "      <td>Adjuntas</td>\n",
       "      <td>72113.0</td>\n",
       "    </tr>\n",
       "    <tr>\n",
       "      <th>4</th>\n",
       "      <td>602</td>\n",
       "      <td>18.393103</td>\n",
       "      <td>-67.180953</td>\n",
       "      <td>Aguada</td>\n",
       "      <td>PR</td>\n",
       "      <td>Aguada</td>\n",
       "      <td>72003.0</td>\n",
       "    </tr>\n",
       "  </tbody>\n",
       "</table>\n",
       "</div>"
      ],
      "text/plain": [
       "   zipcode   latitude  longitude        city state    county     fips\n",
       "0      501  40.922326 -72.637078  Holtsville    NY   Suffolk  36103.0\n",
       "1      544  40.922326 -72.637078  Holtsville    NY   Suffolk      NaN\n",
       "2      601  18.165273 -66.722583    Adjuntas    PR  Adjuntas  72001.0\n",
       "3      601  18.165273 -66.722583    Adjuntas    PR  Adjuntas  72113.0\n",
       "4      602  18.393103 -67.180953      Aguada    PR    Aguada  72003.0"
      ]
     },
     "execution_count": 124,
     "metadata": {},
     "output_type": "execute_result"
    }
   ],
   "source": [
    "zipfips.head()"
   ]
  },
  {
   "cell_type": "code",
   "execution_count": 98,
   "metadata": {},
   "outputs": [],
   "source": [
    "#zipfips['fips'] = zipfips['fips'].apply(lambda x: str(x).zfill(5))"
   ]
  },
  {
   "cell_type": "code",
   "execution_count": 99,
   "metadata": {},
   "outputs": [
    {
     "data": {
      "text/plain": [
       "zipcode        int64\n",
       "latitude     float64\n",
       "longitude    float64\n",
       "city          object\n",
       "state         object\n",
       "county        object\n",
       "fips          object\n",
       "dtype: object"
      ]
     },
     "execution_count": 99,
     "metadata": {},
     "output_type": "execute_result"
    }
   ],
   "source": [
    "zipfips.dtypes"
   ]
  },
  {
   "cell_type": "code",
   "execution_count": 105,
   "metadata": {},
   "outputs": [],
   "source": [
    "#zipfips = zipfips['fips'].apply(pd.to_numeric, errors='ignore')"
   ]
  },
  {
   "cell_type": "code",
   "execution_count": 126,
   "metadata": {},
   "outputs": [],
   "source": [
    "# save df to csv\n",
    "zipfips.to_csv(\"./data/zipfips.csv\")"
   ]
  },
  {
   "cell_type": "code",
   "execution_count": 127,
   "metadata": {},
   "outputs": [],
   "source": [
    "count_nan = len(zipfips) - zipfips.count()"
   ]
  },
  {
   "cell_type": "code",
   "execution_count": 128,
   "metadata": {},
   "outputs": [
    {
     "data": {
      "text/plain": [
       "zipcode         0\n",
       "latitude      727\n",
       "longitude     727\n",
       "city            0\n",
       "state           0\n",
       "county        542\n",
       "fips         3696\n",
       "dtype: int64"
      ]
     },
     "execution_count": 128,
     "metadata": {},
     "output_type": "execute_result"
    }
   ],
   "source": [
    "count_nan"
   ]
  },
  {
   "cell_type": "code",
   "execution_count": 129,
   "metadata": {},
   "outputs": [
    {
     "data": {
      "text/plain": [
       "(57163, 7)"
      ]
     },
     "execution_count": 129,
     "metadata": {},
     "output_type": "execute_result"
    }
   ],
   "source": [
    "zipfips.shape"
   ]
  },
  {
   "cell_type": "code",
   "execution_count": 130,
   "metadata": {},
   "outputs": [
    {
     "data": {
      "text/html": [
       "<div>\n",
       "<style scoped>\n",
       "    .dataframe tbody tr th:only-of-type {\n",
       "        vertical-align: middle;\n",
       "    }\n",
       "\n",
       "    .dataframe tbody tr th {\n",
       "        vertical-align: top;\n",
       "    }\n",
       "\n",
       "    .dataframe thead th {\n",
       "        text-align: right;\n",
       "    }\n",
       "</style>\n",
       "<table border=\"1\" class=\"dataframe\">\n",
       "  <thead>\n",
       "    <tr style=\"text-align: right;\">\n",
       "      <th></th>\n",
       "      <th>zipcode</th>\n",
       "      <th>latitude</th>\n",
       "      <th>longitude</th>\n",
       "      <th>city</th>\n",
       "      <th>state</th>\n",
       "      <th>county</th>\n",
       "      <th>fips</th>\n",
       "    </tr>\n",
       "  </thead>\n",
       "  <tbody>\n",
       "    <tr>\n",
       "      <th>57158</th>\n",
       "      <td>99926</td>\n",
       "      <td>55.094325</td>\n",
       "      <td>-131.566827</td>\n",
       "      <td>Metlakatla</td>\n",
       "      <td>AK</td>\n",
       "      <td>Prince Wales Ketchikan</td>\n",
       "      <td>2198.0</td>\n",
       "    </tr>\n",
       "    <tr>\n",
       "      <th>57159</th>\n",
       "      <td>99927</td>\n",
       "      <td>55.517921</td>\n",
       "      <td>-132.003244</td>\n",
       "      <td>Point Baker</td>\n",
       "      <td>AK</td>\n",
       "      <td>Prince Wales Ketchikan</td>\n",
       "      <td>2198.0</td>\n",
       "    </tr>\n",
       "    <tr>\n",
       "      <th>57160</th>\n",
       "      <td>99928</td>\n",
       "      <td>55.395359</td>\n",
       "      <td>-131.675370</td>\n",
       "      <td>Ward Cove</td>\n",
       "      <td>AK</td>\n",
       "      <td>Ketchikan Gateway</td>\n",
       "      <td>2130.0</td>\n",
       "    </tr>\n",
       "    <tr>\n",
       "      <th>57161</th>\n",
       "      <td>99929</td>\n",
       "      <td>56.449893</td>\n",
       "      <td>-132.364407</td>\n",
       "      <td>Wrangell</td>\n",
       "      <td>AK</td>\n",
       "      <td>Wrangell Petersburg</td>\n",
       "      <td>2275.0</td>\n",
       "    </tr>\n",
       "    <tr>\n",
       "      <th>57162</th>\n",
       "      <td>99950</td>\n",
       "      <td>55.542007</td>\n",
       "      <td>-131.432682</td>\n",
       "      <td>Ketchikan</td>\n",
       "      <td>AK</td>\n",
       "      <td>Ketchikan Gateway</td>\n",
       "      <td>NaN</td>\n",
       "    </tr>\n",
       "  </tbody>\n",
       "</table>\n",
       "</div>"
      ],
      "text/plain": [
       "       zipcode   latitude   longitude         city state  \\\n",
       "57158    99926  55.094325 -131.566827   Metlakatla    AK   \n",
       "57159    99927  55.517921 -132.003244  Point Baker    AK   \n",
       "57160    99928  55.395359 -131.675370    Ward Cove    AK   \n",
       "57161    99929  56.449893 -132.364407     Wrangell    AK   \n",
       "57162    99950  55.542007 -131.432682    Ketchikan    AK   \n",
       "\n",
       "                       county    fips  \n",
       "57158  Prince Wales Ketchikan  2198.0  \n",
       "57159  Prince Wales Ketchikan  2198.0  \n",
       "57160       Ketchikan Gateway  2130.0  \n",
       "57161     Wrangell Petersburg  2275.0  \n",
       "57162       Ketchikan Gateway     NaN  "
      ]
     },
     "execution_count": 130,
     "metadata": {},
     "output_type": "execute_result"
    }
   ],
   "source": [
    "zipfips.tail()"
   ]
  },
  {
   "cell_type": "code",
   "execution_count": null,
   "metadata": {},
   "outputs": [],
   "source": []
  }
 ],
 "metadata": {
  "kernelspec": {
   "display_name": "Python [conda env:city-dash]",
   "language": "python",
   "name": "conda-env-city-dash-py"
  },
  "language_info": {
   "codemirror_mode": {
    "name": "ipython",
    "version": 3
   },
   "file_extension": ".py",
   "mimetype": "text/x-python",
   "name": "python",
   "nbconvert_exporter": "python",
   "pygments_lexer": "ipython3",
   "version": "3.6.5"
  }
 },
 "nbformat": 4,
 "nbformat_minor": 2
}
